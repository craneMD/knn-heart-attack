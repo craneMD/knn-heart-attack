{
  "nbformat": 4,
  "nbformat_minor": 0,
  "metadata": {
    "colab": {
      "provenance": []
    },
    "kernelspec": {
      "name": "python3",
      "display_name": "Python 3"
    },
    "language_info": {
      "name": "python"
    }
  },
  "cells": [
    {
      "cell_type": "markdown",
      "source": [
        "\n"
      ],
      "metadata": {
        "id": "P8FfrsUJsUTB"
      }
    },
    {
      "cell_type": "markdown",
      "source": [
        "#Francis Maga\n",
        "\n",
        "#K Nearest Neighbor (KNN)"
      ],
      "metadata": {
        "id": "567vK9JpWAwM"
      }
    },
    {
      "cell_type": "code",
      "execution_count": null,
      "metadata": {
        "id": "J8TtyllqV_Hw"
      },
      "outputs": [],
      "source": [
        "import numpy as np\n",
        "import pandas as pd\n",
        "from sklearn.datasets import load_iris\n",
        "from sklearn.model_selection import train_test_split\n",
        "from sklearn.neighbors import KNeighborsClassifier\n",
        "from sklearn.metrics import accuracy_score\n",
        "from sklearn.metrics import confusion_matrix, classification_report\n",
        "import seaborn as sn\n",
        "import matplotlib.pyplot as plt"
      ]
    },
    {
      "cell_type": "code",
      "source": [
        "data = pd.read_csv(\"sample_data/heart.csv\")"
      ],
      "metadata": {
        "id": "DV2LoVq-XXw2"
      },
      "execution_count": null,
      "outputs": []
    },
    {
      "cell_type": "code",
      "source": [
        "data.info()"
      ],
      "metadata": {
        "id": "4we12LWdXvM1"
      },
      "execution_count": null,
      "outputs": []
    },
    {
      "cell_type": "code",
      "source": [
        "data['target'].value_counts().plot(kind='bar')\n",
        "data['target'].value_counts()"
      ],
      "metadata": {
        "id": "8E5wuS_YZKIk"
      },
      "execution_count": null,
      "outputs": []
    },
    {
      "cell_type": "code",
      "source": [
        "x_columns = data.columns[:-1]\n",
        "\n",
        "# Set up subplots\n",
        "fig, axes = plt.subplots(nrows=len(x_columns)//3 + 1, ncols=3, figsize=(15, 5*len(x_columns)//3 + 1))\n",
        "fig.subplots_adjust(hspace=0.5)\n",
        "\n",
        "# Iterate over columns and create count plots\n",
        "for i, column in enumerate(x_columns):\n",
        "    row = i // 3\n",
        "    col = i % 3\n",
        "\n",
        "    sn.countplot(x=column, data=data, hue='target', ax=axes[row, col])\n",
        "    axes[row, col].set_title(f'Count Plot for {column}')\n",
        "    axes[row, col].set_xlabel(column)\n",
        "    axes[row, col].set_ylabel('Count')\n",
        "\n",
        "# Remove empty subplots\n",
        "for i in range(len(x_columns), len(x_columns)//3 + 1 * 3):\n",
        "    fig.delaxes(axes.flatten()[i])\n",
        "\n",
        "plt.show()"
      ],
      "metadata": {
        "id": "WIHCbLuxZMI8"
      },
      "execution_count": null,
      "outputs": []
    },
    {
      "cell_type": "code",
      "source": [
        "data.isnull().sum()"
      ],
      "metadata": {
        "id": "SdjsQzXAZSEU"
      },
      "execution_count": null,
      "outputs": []
    },
    {
      "cell_type": "markdown",
      "source": [
        "#Training"
      ],
      "metadata": {
        "id": "b1fD7iiMZTmc"
      }
    },
    {
      "cell_type": "code",
      "source": [
        "X = data.drop('target', axis=1)\n",
        "y = data['target']"
      ],
      "metadata": {
        "id": "Vi8tJTNzbqPU"
      },
      "execution_count": null,
      "outputs": []
    },
    {
      "cell_type": "code",
      "source": [
        "X_train, X_test, y_train, y_test = train_test_split(X, y, test_size=0.2, random_state=42)"
      ],
      "metadata": {
        "id": "t1XU41xaWUqF"
      },
      "execution_count": null,
      "outputs": []
    },
    {
      "cell_type": "code",
      "source": [
        "knn_classifier = KNeighborsClassifier(n_neighbors=50)"
      ],
      "metadata": {
        "id": "znkpxdI4WVt7"
      },
      "execution_count": null,
      "outputs": []
    },
    {
      "cell_type": "code",
      "source": [
        "knn_classifier.fit(X_train, y_train)"
      ],
      "metadata": {
        "id": "5rSSMe2RWYRr"
      },
      "execution_count": null,
      "outputs": []
    },
    {
      "cell_type": "code",
      "source": [
        "y_pred = knn_classifier.predict(X_test)"
      ],
      "metadata": {
        "id": "wzScioRPWbkj"
      },
      "execution_count": null,
      "outputs": []
    },
    {
      "cell_type": "code",
      "source": [
        "accuracy = accuracy_score(y_test, y_pred)\n",
        "print(f'Accuracy: {accuracy * 100:.2f}%')"
      ],
      "metadata": {
        "id": "OOxTAeidWeJT"
      },
      "execution_count": null,
      "outputs": []
    },
    {
      "cell_type": "code",
      "source": [
        "conf_matrix = confusion_matrix(y_test, y_pred)\n",
        "classification_rep = classification_report(y_test, y_pred)"
      ],
      "metadata": {
        "id": "0QwAv0k0WsSk"
      },
      "execution_count": null,
      "outputs": []
    },
    {
      "cell_type": "code",
      "source": [
        "print('\\nConfusion Matrix:')\n",
        "print(conf_matrix)"
      ],
      "metadata": {
        "id": "WDPI9PyqWvSd"
      },
      "execution_count": null,
      "outputs": []
    },
    {
      "cell_type": "code",
      "source": [
        "# Select two features for visualization (you can change these)\n",
        "feature1 = 'age'\n",
        "feature2 = 'thalach'\n",
        "\n",
        "# Plotting function to show decision boundaries and data points\n",
        "def plot_knn_decision_boundary(X_train, y_train, knn_classifier, feature1, feature2):\n",
        "    plt.figure(figsize=(10, 8))"
      ],
      "metadata": {
        "id": "GLw39MK9vt_O"
      },
      "execution_count": null,
      "outputs": []
    },
    {
      "cell_type": "code",
      "source": [
        "plt.figure(figsize=(8, 6))\n",
        "sn.heatmap(conf_matrix, annot=True, fmt='d', cmap='Blues', xticklabels=['Less Likely', 'Likely'], yticklabels=['Less Likely', 'Likely'])\n",
        "plt.title('Confusion Matrix')\n",
        "plt.xlabel('Predicted')\n",
        "plt.ylabel('Actual')\n",
        "plt.show()"
      ],
      "metadata": {
        "id": "gWJZzKNxcfGt"
      },
      "execution_count": null,
      "outputs": []
    },
    {
      "cell_type": "code",
      "source": [
        "print('\\nClassification Report:')\n",
        "print(classification_rep)"
      ],
      "metadata": {
        "id": "CaY4speuW1Mr"
      },
      "execution_count": null,
      "outputs": []
    }
  ]
}